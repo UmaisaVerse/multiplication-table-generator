{
  "nbformat": 4,
  "nbformat_minor": 0,
  "metadata": {
    "colab": {
      "provenance": []
    },
    "kernelspec": {
      "name": "python3",
      "display_name": "Python 3"
    },
    "language_info": {
      "name": "python"
    }
  },
  "cells": [
    {
      "cell_type": "markdown",
      "source": [
        "#**Task 1**\n",
        "Write a Python program that prints the multiplication table for a given number.\n",
        "\n",
        "Requirements:\n",
        "\n",
        "1. Define a function print_multiplication_table(number) that:\n",
        "2. Takes a number as input.\n",
        "3. Prints the multiplication table from 1 to 10 for that number."
      ],
      "metadata": {
        "id": "oUXGY_EkzQeG"
      }
    },
    {
      "cell_type": "code",
      "source": [
        "def print_multiplication_table(number):\n",
        "    for i in range(1, 11):\n",
        "        print(f\"{number} x {i} = {number * i}\")\n",
        "num = int(input(\"Enter a number: \"))\n",
        "print_multiplication_table(num)\n"
      ],
      "metadata": {
        "id": "-2v67XXRgZjD",
        "colab": {
          "base_uri": "https://localhost:8080/"
        },
        "outputId": "3a9b10ca-0ccf-4206-aa2f-a5b9ae2032c2"
      },
      "execution_count": 1,
      "outputs": [
        {
          "output_type": "stream",
          "name": "stdout",
          "text": [
            "Enter a number: 9\n",
            "9 x 1 = 9\n",
            "9 x 2 = 18\n",
            "9 x 3 = 27\n",
            "9 x 4 = 36\n",
            "9 x 5 = 45\n",
            "9 x 6 = 54\n",
            "9 x 7 = 63\n",
            "9 x 8 = 72\n",
            "9 x 9 = 81\n",
            "9 x 10 = 90\n"
          ]
        }
      ]
    }
  ]
}